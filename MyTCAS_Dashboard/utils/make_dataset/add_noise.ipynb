{
 "cells": [
  {
   "cell_type": "code",
   "execution_count": 1,
   "id": "781dd80e",
   "metadata": {},
   "outputs": [],
   "source": [
    "import pandas as pd \n",
    "import numpy as np"
   ]
  },
  {
   "cell_type": "code",
   "execution_count": 6,
   "id": "8d68cbe1",
   "metadata": {},
   "outputs": [],
   "source": [
    "df = pd.read_csv('results/data_via_location.csv')"
   ]
  },
  {
   "cell_type": "code",
   "execution_count": 7,
   "id": "dbee0685",
   "metadata": {},
   "outputs": [],
   "source": [
    "np.random.seed(42)\n",
    "\n",
    "# Add small noise (jitter) to latitude and longitude\n",
    "# You can adjust the scale (e.g. 0.0001 = ~11 meters)\n",
    "df['latitude'] = df['latitude'].astype(float) + np.random.normal(0, 0.001, size=len(df))\n",
    "df['longitude'] = df['longitude'].astype(float) + np.random.normal(0, 0.001, size=len(df))\n"
   ]
  },
  {
   "cell_type": "code",
   "execution_count": null,
   "id": "9fb05eea",
   "metadata": {},
   "outputs": [],
   "source": []
  },
  {
   "cell_type": "code",
   "execution_count": 8,
   "id": "7a0ad137",
   "metadata": {},
   "outputs": [],
   "source": [
    "df.to_csv(\"results/data_via_location_noises.csv\")"
   ]
  },
  {
   "cell_type": "code",
   "execution_count": null,
   "id": "e4a6541a",
   "metadata": {},
   "outputs": [],
   "source": []
  }
 ],
 "metadata": {
  "kernelspec": {
   "display_name": "venv (3.12.4)",
   "language": "python",
   "name": "python3"
  },
  "language_info": {
   "codemirror_mode": {
    "name": "ipython",
    "version": 3
   },
   "file_extension": ".py",
   "mimetype": "text/x-python",
   "name": "python",
   "nbconvert_exporter": "python",
   "pygments_lexer": "ipython3",
   "version": "3.12.4"
  }
 },
 "nbformat": 4,
 "nbformat_minor": 5
}
